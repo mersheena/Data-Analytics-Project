{
  "nbformat": 4,
  "nbformat_minor": 0,
  "metadata": {
    "colab": {
      "provenance": []
    },
    "kernelspec": {
      "name": "python3",
      "display_name": "Python 3"
    },
    "language_info": {
      "name": "python"
    }
  },
  "cells": [
    {
      "cell_type": "code",
      "execution_count": null,
      "metadata": {
        "colab": {
          "base_uri": "https://localhost:8080/",
          "height": 335
        },
        "id": "30-x87FaLoMA",
        "outputId": "0dca9cda-ee5b-4fa9-df54-5d83fed2b6f8"
      },
      "outputs": [
        {
          "output_type": "error",
          "ename": "MessageError",
          "evalue": "Error: credential propagation was unsuccessful",
          "traceback": [
            "\u001b[0;31m---------------------------------------------------------------------------\u001b[0m",
            "\u001b[0;31mMessageError\u001b[0m                              Traceback (most recent call last)",
            "\u001b[0;32m<ipython-input-1-4e5c5ab27a6d>\u001b[0m in \u001b[0;36m<cell line: 5>\u001b[0;34m()\u001b[0m\n\u001b[1;32m      3\u001b[0m \u001b[0;34m\u001b[0m\u001b[0m\n\u001b[1;32m      4\u001b[0m \u001b[0;32mfrom\u001b[0m \u001b[0mgoogle\u001b[0m\u001b[0;34m.\u001b[0m\u001b[0mcolab\u001b[0m \u001b[0;32mimport\u001b[0m \u001b[0mdrive\u001b[0m\u001b[0;34m\u001b[0m\u001b[0;34m\u001b[0m\u001b[0m\n\u001b[0;32m----> 5\u001b[0;31m \u001b[0mdrive\u001b[0m\u001b[0;34m.\u001b[0m\u001b[0mmount\u001b[0m\u001b[0;34m(\u001b[0m\u001b[0;34m'/content/drive'\u001b[0m\u001b[0;34m)\u001b[0m\u001b[0;34m\u001b[0m\u001b[0;34m\u001b[0m\u001b[0m\n\u001b[0m",
            "\u001b[0;32m/usr/local/lib/python3.10/dist-packages/google/colab/drive.py\u001b[0m in \u001b[0;36mmount\u001b[0;34m(mountpoint, force_remount, timeout_ms, readonly)\u001b[0m\n\u001b[1;32m     98\u001b[0m \u001b[0;32mdef\u001b[0m \u001b[0mmount\u001b[0m\u001b[0;34m(\u001b[0m\u001b[0mmountpoint\u001b[0m\u001b[0;34m,\u001b[0m \u001b[0mforce_remount\u001b[0m\u001b[0;34m=\u001b[0m\u001b[0;32mFalse\u001b[0m\u001b[0;34m,\u001b[0m \u001b[0mtimeout_ms\u001b[0m\u001b[0;34m=\u001b[0m\u001b[0;36m120000\u001b[0m\u001b[0;34m,\u001b[0m \u001b[0mreadonly\u001b[0m\u001b[0;34m=\u001b[0m\u001b[0;32mFalse\u001b[0m\u001b[0;34m)\u001b[0m\u001b[0;34m:\u001b[0m\u001b[0;34m\u001b[0m\u001b[0;34m\u001b[0m\u001b[0m\n\u001b[1;32m     99\u001b[0m   \u001b[0;34m\"\"\"Mount your Google Drive at the specified mountpoint path.\"\"\"\u001b[0m\u001b[0;34m\u001b[0m\u001b[0;34m\u001b[0m\u001b[0m\n\u001b[0;32m--> 100\u001b[0;31m   return _mount(\n\u001b[0m\u001b[1;32m    101\u001b[0m       \u001b[0mmountpoint\u001b[0m\u001b[0;34m,\u001b[0m\u001b[0;34m\u001b[0m\u001b[0;34m\u001b[0m\u001b[0m\n\u001b[1;32m    102\u001b[0m       \u001b[0mforce_remount\u001b[0m\u001b[0;34m=\u001b[0m\u001b[0mforce_remount\u001b[0m\u001b[0;34m,\u001b[0m\u001b[0;34m\u001b[0m\u001b[0;34m\u001b[0m\u001b[0m\n",
            "\u001b[0;32m/usr/local/lib/python3.10/dist-packages/google/colab/drive.py\u001b[0m in \u001b[0;36m_mount\u001b[0;34m(mountpoint, force_remount, timeout_ms, ephemeral, readonly)\u001b[0m\n\u001b[1;32m    131\u001b[0m   )\n\u001b[1;32m    132\u001b[0m   \u001b[0;32mif\u001b[0m \u001b[0mephemeral\u001b[0m\u001b[0;34m:\u001b[0m\u001b[0;34m\u001b[0m\u001b[0;34m\u001b[0m\u001b[0m\n\u001b[0;32m--> 133\u001b[0;31m     _message.blocking_request(\n\u001b[0m\u001b[1;32m    134\u001b[0m         \u001b[0;34m'request_auth'\u001b[0m\u001b[0;34m,\u001b[0m\u001b[0;34m\u001b[0m\u001b[0;34m\u001b[0m\u001b[0m\n\u001b[1;32m    135\u001b[0m         \u001b[0mrequest\u001b[0m\u001b[0;34m=\u001b[0m\u001b[0;34m{\u001b[0m\u001b[0;34m'authType'\u001b[0m\u001b[0;34m:\u001b[0m \u001b[0;34m'dfs_ephemeral'\u001b[0m\u001b[0;34m}\u001b[0m\u001b[0;34m,\u001b[0m\u001b[0;34m\u001b[0m\u001b[0;34m\u001b[0m\u001b[0m\n",
            "\u001b[0;32m/usr/local/lib/python3.10/dist-packages/google/colab/_message.py\u001b[0m in \u001b[0;36mblocking_request\u001b[0;34m(request_type, request, timeout_sec, parent)\u001b[0m\n\u001b[1;32m    174\u001b[0m       \u001b[0mrequest_type\u001b[0m\u001b[0;34m,\u001b[0m \u001b[0mrequest\u001b[0m\u001b[0;34m,\u001b[0m \u001b[0mparent\u001b[0m\u001b[0;34m=\u001b[0m\u001b[0mparent\u001b[0m\u001b[0;34m,\u001b[0m \u001b[0mexpect_reply\u001b[0m\u001b[0;34m=\u001b[0m\u001b[0;32mTrue\u001b[0m\u001b[0;34m\u001b[0m\u001b[0;34m\u001b[0m\u001b[0m\n\u001b[1;32m    175\u001b[0m   )\n\u001b[0;32m--> 176\u001b[0;31m   \u001b[0;32mreturn\u001b[0m \u001b[0mread_reply_from_input\u001b[0m\u001b[0;34m(\u001b[0m\u001b[0mrequest_id\u001b[0m\u001b[0;34m,\u001b[0m \u001b[0mtimeout_sec\u001b[0m\u001b[0;34m)\u001b[0m\u001b[0;34m\u001b[0m\u001b[0;34m\u001b[0m\u001b[0m\n\u001b[0m",
            "\u001b[0;32m/usr/local/lib/python3.10/dist-packages/google/colab/_message.py\u001b[0m in \u001b[0;36mread_reply_from_input\u001b[0;34m(message_id, timeout_sec)\u001b[0m\n\u001b[1;32m    101\u001b[0m     ):\n\u001b[1;32m    102\u001b[0m       \u001b[0;32mif\u001b[0m \u001b[0;34m'error'\u001b[0m \u001b[0;32min\u001b[0m \u001b[0mreply\u001b[0m\u001b[0;34m:\u001b[0m\u001b[0;34m\u001b[0m\u001b[0;34m\u001b[0m\u001b[0m\n\u001b[0;32m--> 103\u001b[0;31m         \u001b[0;32mraise\u001b[0m \u001b[0mMessageError\u001b[0m\u001b[0;34m(\u001b[0m\u001b[0mreply\u001b[0m\u001b[0;34m[\u001b[0m\u001b[0;34m'error'\u001b[0m\u001b[0;34m]\u001b[0m\u001b[0;34m)\u001b[0m\u001b[0;34m\u001b[0m\u001b[0;34m\u001b[0m\u001b[0m\n\u001b[0m\u001b[1;32m    104\u001b[0m       \u001b[0;32mreturn\u001b[0m \u001b[0mreply\u001b[0m\u001b[0;34m.\u001b[0m\u001b[0mget\u001b[0m\u001b[0;34m(\u001b[0m\u001b[0;34m'data'\u001b[0m\u001b[0;34m,\u001b[0m \u001b[0;32mNone\u001b[0m\u001b[0;34m)\u001b[0m\u001b[0;34m\u001b[0m\u001b[0;34m\u001b[0m\u001b[0m\n\u001b[1;32m    105\u001b[0m \u001b[0;34m\u001b[0m\u001b[0m\n",
            "\u001b[0;31mMessageError\u001b[0m: Error: credential propagation was unsuccessful"
          ]
        }
      ],
      "source": [
        "# Mounting drive to google colab:\n",
        "\n",
        "\n",
        "from google.colab import drive\n",
        "drive.mount('/content/drive')"
      ]
    },
    {
      "cell_type": "code",
      "source": [
        "#READ THE DATASET\n",
        "\n",
        "import pandas as pd\n",
        "path=\"/content/drive/MyDrive/MR_DATA.csv\"\n",
        "df=pd.read_csv(path)\n",
        "print(df.head())"
      ],
      "metadata": {
        "colab": {
          "base_uri": "https://localhost:8080/"
        },
        "id": "uy0zcAuKL8R1",
        "outputId": "c2a7d6ef-2d97-45ec-8c62-a9522df97d2c"
      },
      "execution_count": null,
      "outputs": [
        {
          "output_type": "stream",
          "name": "stdout",
          "text": [
            "          Car       Model  Volume  Weight  CO2\n",
            "0      Toyoty        Aygo    1000     790   99\n",
            "1  Mitsubishi  Space Star    1200    1160   95\n",
            "2       Skoda      Citigo    1000     929   95\n",
            "3        Fiat         500     900     865   90\n",
            "4        Mini      Cooper    1500    1140  105\n"
          ]
        }
      ]
    },
    {
      "cell_type": "code",
      "source": [
        "import pandas as pd\n",
        "from sklearn.model_selection import train_test_split\n",
        "from sklearn.preprocessing import StandardScaler\n",
        "\n",
        "# Load the dataset\n",
        "data = {\n",
        "    'Car': ['Toyota', 'Mitsubishi', 'Skoda', 'Fiat', 'Mini'],\n",
        "    'Model': ['Aygo', 'Space Star', 'Citigo', '500', 'Cooper'],\n",
        "    'Volume': [1000, 1200, 1000, 900, 1500],\n",
        "    'Weight': [790, 1160, 929, 865, 1140],\n",
        "    'CO2': [99, 95, 95, 90, 105]\n",
        "}\n",
        "\n",
        "df = pd.DataFrame(data)\n",
        "\n",
        "# Separate features and target\n",
        "X = df[['Volume', 'Weight']]  # Using 'Volume' and 'Weight' as features\n",
        "y = df['CO2']\n",
        "\n",
        "# Normalize features\n",
        "scaler = StandardScaler()\n",
        "X_scaled = scaler.fit_transform(X)\n",
        "\n",
        "# Split the data into training and testing sets\n",
        "X_train, X_test, y_train, y_test = train_test_split(X_scaled, y, test_size=0.2, random_state=42)\n"
      ],
      "metadata": {
        "id": "hQ-3F4aFNJ2W"
      },
      "execution_count": null,
      "outputs": []
    },
    {
      "cell_type": "code",
      "source": [
        "import pandas as pd\n",
        "from sklearn.model_selection import train_test_split\n",
        "from sklearn.preprocessing import StandardScaler\n",
        "from tensorflow.keras.models import Sequential\n",
        "from tensorflow.keras.layers import Dense, Conv1D, MaxPooling1D, Flatten\n",
        "\n",
        "# Load the dataset\n",
        "data = {\n",
        "    'Car': ['Toyota', 'Mitsubishi', 'Skoda', 'Fiat', 'Mini'],\n",
        "    'Model': ['Aygo', 'Space Star', 'Citigo', '500', 'Cooper'],\n",
        "    'Volume': [1000, 1200, 1000, 900, 1500],\n",
        "    'Weight': [790, 1160, 929, 865, 1140],\n",
        "    'CO2': [99, 95, 95, 90, 105]\n",
        "}\n",
        "\n",
        "df = pd.DataFrame(data)\n",
        "\n",
        "# Separate features and target\n",
        "X = df[['Volume', 'Weight']]  # Using 'Volume' and 'Weight' as features\n",
        "y = df['CO2']\n",
        "\n",
        "# Normalize features\n",
        "scaler = StandardScaler()\n",
        "X_scaled = scaler.fit_transform(X)\n",
        "\n",
        "# Split the data into training and testing sets\n",
        "X_train, X_test, y_train, y_test = train_test_split(X_scaled, y, test_size=0.2, random_state=42)\n",
        "\n",
        "# Build the CNN model\n",
        "cnn_model = Sequential([\n",
        "    Conv1D(32, 2, activation='relu', input_shape=(X_train.shape[1], 1)),\n",
        "    MaxPooling1D(1),  # Adjusted max pooling parameters\n",
        "    Flatten(),\n",
        "    Dense(64, activation='relu'),\n",
        "    Dense(1)  # Output layer for regression task\n",
        "])\n",
        "\n",
        "# Compile the model\n",
        "cnn_model.compile(optimizer='adam', loss='mse', metrics=['mae'])\n",
        "\n",
        "# Train the model\n",
        "cnn_model.fit(X_train.reshape(-1, 2, 1), y_train, epochs=10, batch_size=32, validation_data=(X_test.reshape(-1, 2, 1), y_test))\n"
      ],
      "metadata": {
        "colab": {
          "base_uri": "https://localhost:8080/"
        },
        "id": "GA7b-FQdODu2",
        "outputId": "6cfe7fa6-3a3c-4f8c-b51b-efc5cbcab160"
      },
      "execution_count": null,
      "outputs": [
        {
          "output_type": "stream",
          "name": "stdout",
          "text": [
            "Epoch 1/10\n",
            "1/1 [==============================] - 1s 925ms/step - loss: 9435.1377 - mae: 96.9749 - val_loss: 9006.2695 - val_mae: 94.9014\n",
            "Epoch 2/10\n",
            "1/1 [==============================] - 0s 32ms/step - loss: 9430.0381 - mae: 96.9486 - val_loss: 9003.3965 - val_mae: 94.8862\n",
            "Epoch 3/10\n",
            "1/1 [==============================] - 0s 32ms/step - loss: 9424.8438 - mae: 96.9219 - val_loss: 9000.3535 - val_mae: 94.8702\n",
            "Epoch 4/10\n",
            "1/1 [==============================] - 0s 33ms/step - loss: 9419.5732 - mae: 96.8947 - val_loss: 8997.1240 - val_mae: 94.8532\n",
            "Epoch 5/10\n",
            "1/1 [==============================] - 0s 55ms/step - loss: 9414.2305 - mae: 96.8671 - val_loss: 8993.8721 - val_mae: 94.8360\n",
            "Epoch 6/10\n",
            "1/1 [==============================] - 0s 44ms/step - loss: 9408.8105 - mae: 96.8391 - val_loss: 8990.5947 - val_mae: 94.8187\n",
            "Epoch 7/10\n",
            "1/1 [==============================] - 0s 33ms/step - loss: 9403.2646 - mae: 96.8105 - val_loss: 8987.2969 - val_mae: 94.8014\n",
            "Epoch 8/10\n",
            "1/1 [==============================] - 0s 32ms/step - loss: 9397.6367 - mae: 96.7814 - val_loss: 8984.1494 - val_mae: 94.7848\n",
            "Epoch 9/10\n",
            "1/1 [==============================] - 0s 33ms/step - loss: 9391.9062 - mae: 96.7518 - val_loss: 8980.8965 - val_mae: 94.7676\n",
            "Epoch 10/10\n",
            "1/1 [==============================] - 0s 43ms/step - loss: 9386.0430 - mae: 96.7215 - val_loss: 8977.4834 - val_mae: 94.7496\n"
          ]
        },
        {
          "output_type": "execute_result",
          "data": {
            "text/plain": [
              "<keras.src.callbacks.History at 0x7c643d11b310>"
            ]
          },
          "metadata": {},
          "execution_count": 12
        }
      ]
    },
    {
      "cell_type": "code",
      "source": [
        "from tensorflow.keras.layers import LSTM\n",
        "\n",
        "# Build the RNN model\n",
        "rnn_model = Sequential([\n",
        "    LSTM(32, input_shape=(X_train.shape[1], 1)),\n",
        "    Dense(64, activation='relu'),\n",
        "    Dense(1)  # Output layer for regression task\n",
        "])\n",
        "\n",
        "# Compile the model\n",
        "rnn_model.compile(optimizer='adam', loss='mse', metrics=['mae'])\n",
        "\n",
        "# Train the model\n",
        "rnn_model.fit(X_train.reshape(-1, 2, 1), y_train, epochs=10, batch_size=32, validation_data=(X_test.reshape(-1, 2, 1), y_test))\n"
      ],
      "metadata": {
        "colab": {
          "base_uri": "https://localhost:8080/"
        },
        "id": "SJR6njnSSBk8",
        "outputId": "e3a8c878-f27f-4b72-ca51-c43f5dcec02e"
      },
      "execution_count": null,
      "outputs": [
        {
          "output_type": "stream",
          "name": "stdout",
          "text": [
            "Epoch 1/10\n",
            "1/1 [==============================] - 3s 3s/step - loss: 9485.5156 - mae: 97.2385 - val_loss: 9022.1348 - val_mae: 94.9849\n",
            "Epoch 2/10\n",
            "1/1 [==============================] - 0s 34ms/step - loss: 9482.7705 - mae: 97.2243 - val_loss: 9020.5010 - val_mae: 94.9763\n",
            "Epoch 3/10\n",
            "1/1 [==============================] - 0s 35ms/step - loss: 9480.0078 - mae: 97.2100 - val_loss: 9018.9648 - val_mae: 94.9682\n",
            "Epoch 4/10\n",
            "1/1 [==============================] - 0s 36ms/step - loss: 9477.3027 - mae: 97.1961 - val_loss: 9017.4404 - val_mae: 94.9602\n",
            "Epoch 5/10\n",
            "1/1 [==============================] - 0s 37ms/step - loss: 9474.8340 - mae: 97.1833 - val_loss: 9015.9268 - val_mae: 94.9522\n",
            "Epoch 6/10\n",
            "1/1 [==============================] - 0s 35ms/step - loss: 9472.5410 - mae: 97.1715 - val_loss: 9014.4199 - val_mae: 94.9443\n",
            "Epoch 7/10\n",
            "1/1 [==============================] - 0s 54ms/step - loss: 9470.2969 - mae: 97.1599 - val_loss: 9012.9346 - val_mae: 94.9365\n",
            "Epoch 8/10\n",
            "1/1 [==============================] - 0s 41ms/step - loss: 9468.0332 - mae: 97.1482 - val_loss: 9011.5234 - val_mae: 94.9290\n",
            "Epoch 9/10\n",
            "1/1 [==============================] - 0s 38ms/step - loss: 9465.7568 - mae: 97.1364 - val_loss: 9010.1172 - val_mae: 94.9216\n",
            "Epoch 10/10\n",
            "1/1 [==============================] - 0s 32ms/step - loss: 9463.4922 - mae: 97.1247 - val_loss: 9008.7100 - val_mae: 94.9142\n"
          ]
        },
        {
          "output_type": "execute_result",
          "data": {
            "text/plain": [
              "<keras.src.callbacks.History at 0x7c642df2f4f0>"
            ]
          },
          "metadata": {},
          "execution_count": 13
        }
      ]
    },
    {
      "cell_type": "code",
      "source": [
        "# Build the ANN model\n",
        "ann_model = Sequential([\n",
        "    Dense(64, activation='relu', input_shape=(X_train.shape[1],)),\n",
        "    Dense(32, activation='relu'),\n",
        "    Dense(1)  # Output layer for regression task\n",
        "])\n",
        "\n",
        "# Compile the model\n",
        "ann_model.compile(optimizer='adam', loss='mse', metrics=['mae'])\n",
        "\n",
        "# Train the model\n",
        "ann_model.fit(X_train, y_train, epochs=10, batch_size=32, validation_data=(X_test, y_test))\n"
      ],
      "metadata": {
        "colab": {
          "base_uri": "https://localhost:8080/"
        },
        "id": "LUqNaVBpSLDE",
        "outputId": "a0f9f5eb-7c30-4093-8772-223e89fbe17d"
      },
      "execution_count": null,
      "outputs": [
        {
          "output_type": "stream",
          "name": "stdout",
          "text": [
            "Epoch 1/10\n",
            "1/1 [==============================] - 1s 1s/step - loss: 9461.7480 - mae: 97.1183 - val_loss: 9001.3701 - val_mae: 94.8755\n",
            "Epoch 2/10\n",
            "1/1 [==============================] - 0s 55ms/step - loss: 9453.3672 - mae: 97.0760 - val_loss: 8995.4023 - val_mae: 94.8441\n",
            "Epoch 3/10\n",
            "1/1 [==============================] - 0s 61ms/step - loss: 9445.1650 - mae: 97.0346 - val_loss: 8989.4502 - val_mae: 94.8127\n",
            "Epoch 4/10\n",
            "1/1 [==============================] - 0s 73ms/step - loss: 9436.8604 - mae: 96.9926 - val_loss: 8983.4883 - val_mae: 94.7813\n",
            "Epoch 5/10\n",
            "1/1 [==============================] - 0s 43ms/step - loss: 9428.3779 - mae: 96.9494 - val_loss: 8977.5000 - val_mae: 94.7497\n",
            "Epoch 6/10\n",
            "1/1 [==============================] - 0s 49ms/step - loss: 9419.9424 - mae: 96.9065 - val_loss: 8971.4844 - val_mae: 94.7179\n",
            "Epoch 7/10\n",
            "1/1 [==============================] - 0s 67ms/step - loss: 9411.5127 - mae: 96.8636 - val_loss: 8965.4355 - val_mae: 94.6860\n",
            "Epoch 8/10\n",
            "1/1 [==============================] - 0s 53ms/step - loss: 9402.9980 - mae: 96.8202 - val_loss: 8959.4443 - val_mae: 94.6543\n",
            "Epoch 9/10\n",
            "1/1 [==============================] - 0s 47ms/step - loss: 9394.4912 - mae: 96.7768 - val_loss: 8952.6475 - val_mae: 94.6184\n",
            "Epoch 10/10\n",
            "1/1 [==============================] - 0s 46ms/step - loss: 9386.6885 - mae: 96.7369 - val_loss: 8945.6523 - val_mae: 94.5815\n"
          ]
        },
        {
          "output_type": "execute_result",
          "data": {
            "text/plain": [
              "<keras.src.callbacks.History at 0x7c642db521d0>"
            ]
          },
          "metadata": {},
          "execution_count": 14
        }
      ]
    }
  ]
}
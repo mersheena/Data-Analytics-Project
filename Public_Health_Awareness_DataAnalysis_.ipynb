{
  "nbformat": 4,
  "nbformat_minor": 0,
  "metadata": {
    "colab": {
      "provenance": [],
      "authorship_tag": "ABX9TyMbA9CE3vckkLp5YX6bLUwR",
      "include_colab_link": true
    },
    "kernelspec": {
      "name": "python3",
      "display_name": "Python 3"
    },
    "language_info": {
      "name": "python"
    }
  },
  "cells": [
    {
      "cell_type": "markdown",
      "metadata": {
        "id": "view-in-github",
        "colab_type": "text"
      },
      "source": [
        "<a href=\"https://colab.research.google.com/github/21IT34/My-Project/blob/main/Public_Health_Awareness_DataAnalysis_.ipynb\" target=\"_parent\"><img src=\"https://colab.research.google.com/assets/colab-badge.svg\" alt=\"Open In Colab\"/></a>"
      ]
    },
    {
      "cell_type": "code",
      "execution_count": null,
      "metadata": {
        "id": "IHk6vLvJ7I7P",
        "colab": {
          "base_uri": "https://localhost:8080/"
        },
        "outputId": "2385a2cf-fdd2-4aee-b0d1-cddc59f58c06"
      },
      "outputs": [
        {
          "output_type": "stream",
          "name": "stdout",
          "text": [
            "Mounted at /content/drive\n"
          ]
        }
      ],
      "source": [
        "# Mount To Google Drive\n",
        "from google.colab import drive\n",
        "drive.mount('/content/drive')"
      ]
    },
    {
      "cell_type": "code",
      "source": [
        "# Load The DataSet\n",
        "\n",
        "import pandas as pd\n",
        "import matplotlib.pyplot as plt\n",
        "import seaborn as sns\n",
        "path=\"/content/drive/MyDrive/survey.csv\"\n",
        "id=pd.read_csv(path)\n",
        "print(id)\n"
      ],
      "metadata": {
        "id": "1sc5AFtl90KF",
        "colab": {
          "base_uri": "https://localhost:8080/"
        },
        "outputId": "765cf02d-9bd5-4579-dc9e-c856a3702e1d"
      },
      "execution_count": null,
      "outputs": [
        {
          "output_type": "stream",
          "name": "stdout",
          "text": [
            "                Timestamp  Age  Gender         Country state self_employed  \\\n",
            "0     2014-08-27 11:29:31   37  Female   United States    IL           NaN   \n",
            "1     2014-08-27 11:29:37   44       M   United States    IN           NaN   \n",
            "2     2014-08-27 11:29:44   32    Male          Canada   NaN           NaN   \n",
            "3     2014-08-27 11:29:46   31    Male  United Kingdom   NaN           NaN   \n",
            "4     2014-08-27 11:30:22   31    Male   United States    TX           NaN   \n",
            "...                   ...  ...     ...             ...   ...           ...   \n",
            "1254  2015-09-12 11:17:21   26    male  United Kingdom   NaN            No   \n",
            "1255  2015-09-26 01:07:35   32    Male   United States    IL            No   \n",
            "1256  2015-11-07 12:36:58   34    male   United States    CA            No   \n",
            "1257  2015-11-30 21:25:06   46       f   United States    NC            No   \n",
            "1258  2016-02-01 23:04:31   25    Male   United States    IL            No   \n",
            "\n",
            "     family_history treatment work_interfere    no_employees  ...  \\\n",
            "0                No       Yes          Often            6-25  ...   \n",
            "1                No        No         Rarely  More than 1000  ...   \n",
            "2                No        No         Rarely            6-25  ...   \n",
            "3               Yes       Yes          Often          26-100  ...   \n",
            "4                No        No          Never         100-500  ...   \n",
            "...             ...       ...            ...             ...  ...   \n",
            "1254             No       Yes            NaN          26-100  ...   \n",
            "1255            Yes       Yes          Often          26-100  ...   \n",
            "1256            Yes       Yes      Sometimes  More than 1000  ...   \n",
            "1257             No        No            NaN         100-500  ...   \n",
            "1258            Yes       Yes      Sometimes          26-100  ...   \n",
            "\n",
            "                   leave mental_health_consequence phys_health_consequence  \\\n",
            "0          Somewhat easy                        No                      No   \n",
            "1             Don't know                     Maybe                      No   \n",
            "2     Somewhat difficult                        No                      No   \n",
            "3     Somewhat difficult                       Yes                     Yes   \n",
            "4             Don't know                        No                      No   \n",
            "...                  ...                       ...                     ...   \n",
            "1254       Somewhat easy                        No                      No   \n",
            "1255  Somewhat difficult                        No                      No   \n",
            "1256  Somewhat difficult                       Yes                     Yes   \n",
            "1257          Don't know                       Yes                      No   \n",
            "1258          Don't know                     Maybe                      No   \n",
            "\n",
            "         coworkers    supervisor mental_health_interview  \\\n",
            "0     Some of them           Yes                      No   \n",
            "1               No            No                      No   \n",
            "2              Yes           Yes                     Yes   \n",
            "3     Some of them            No                   Maybe   \n",
            "4     Some of them           Yes                     Yes   \n",
            "...            ...           ...                     ...   \n",
            "1254  Some of them  Some of them                      No   \n",
            "1255  Some of them           Yes                      No   \n",
            "1256            No            No                      No   \n",
            "1257            No            No                      No   \n",
            "1258  Some of them            No                      No   \n",
            "\n",
            "     phys_health_interview mental_vs_physical obs_consequence comments  \n",
            "0                    Maybe                Yes              No      NaN  \n",
            "1                       No         Don't know              No      NaN  \n",
            "2                      Yes                 No              No      NaN  \n",
            "3                    Maybe                 No             Yes      NaN  \n",
            "4                      Yes         Don't know              No      NaN  \n",
            "...                    ...                ...             ...      ...  \n",
            "1254                    No         Don't know              No      NaN  \n",
            "1255                    No                Yes              No      NaN  \n",
            "1256                    No                 No              No      NaN  \n",
            "1257                    No                 No              No      NaN  \n",
            "1258                    No         Don't know              No      NaN  \n",
            "\n",
            "[1259 rows x 27 columns]\n"
          ]
        }
      ]
    },
    {
      "cell_type": "code",
      "source": [
        "#*****************************************************************************PROCESS THE DATASET************************************************************************************\n",
        "\n",
        "#shape\n",
        "\n",
        "id.shape\n",
        "\n"
      ],
      "metadata": {
        "colab": {
          "base_uri": "https://localhost:8080/"
        },
        "id": "1Podl_dIMZ45",
        "outputId": "7dc11320-7ce5-473c-ae4e-aea99b47769e"
      },
      "execution_count": null,
      "outputs": [
        {
          "output_type": "execute_result",
          "data": {
            "text/plain": [
              "(1259, 27)"
            ]
          },
          "metadata": {},
          "execution_count": 80
        }
      ]
    },
    {
      "cell_type": "code",
      "source": [
        "#information\n",
        "\n",
        "id.info()"
      ],
      "metadata": {
        "colab": {
          "base_uri": "https://localhost:8080/"
        },
        "id": "_fdItT-CNSUn",
        "outputId": "22aef4c0-2499-4026-ed98-b121fab21448"
      },
      "execution_count": null,
      "outputs": [
        {
          "output_type": "stream",
          "name": "stdout",
          "text": [
            "<class 'pandas.core.frame.DataFrame'>\n",
            "RangeIndex: 1259 entries, 0 to 1258\n",
            "Data columns (total 27 columns):\n",
            " #   Column                     Non-Null Count  Dtype \n",
            "---  ------                     --------------  ----- \n",
            " 0   Timestamp                  1259 non-null   object\n",
            " 1   Age                        1259 non-null   int64 \n",
            " 2   Gender                     1259 non-null   object\n",
            " 3   Country                    1259 non-null   object\n",
            " 4   state                      744 non-null    object\n",
            " 5   self_employed              1241 non-null   object\n",
            " 6   family_history             1259 non-null   object\n",
            " 7   treatment                  1259 non-null   object\n",
            " 8   work_interfere             995 non-null    object\n",
            " 9   no_employees               1259 non-null   object\n",
            " 10  remote_work                1259 non-null   object\n",
            " 11  tech_company               1259 non-null   object\n",
            " 12  benefits                   1259 non-null   object\n",
            " 13  care_options               1259 non-null   object\n",
            " 14  wellness_program           1259 non-null   object\n",
            " 15  seek_help                  1259 non-null   object\n",
            " 16  anonymity                  1259 non-null   object\n",
            " 17  leave                      1259 non-null   object\n",
            " 18  mental_health_consequence  1259 non-null   object\n",
            " 19  phys_health_consequence    1259 non-null   object\n",
            " 20  coworkers                  1259 non-null   object\n",
            " 21  supervisor                 1259 non-null   object\n",
            " 22  mental_health_interview    1259 non-null   object\n",
            " 23  phys_health_interview      1259 non-null   object\n",
            " 24  mental_vs_physical         1259 non-null   object\n",
            " 25  obs_consequence            1259 non-null   object\n",
            " 26  comments                   164 non-null    object\n",
            "dtypes: int64(1), object(26)\n",
            "memory usage: 265.7+ KB\n"
          ]
        }
      ]
    },
    {
      "cell_type": "code",
      "source": [
        "#describe\n",
        "\n",
        "id.describe()"
      ],
      "metadata": {
        "colab": {
          "base_uri": "https://localhost:8080/",
          "height": 300
        },
        "id": "bppSEVE1NWYo",
        "outputId": "9d2ea205-9bf6-413f-b092-d7c1e6075cd5"
      },
      "execution_count": null,
      "outputs": [
        {
          "output_type": "execute_result",
          "data": {
            "text/plain": [
              "                Age\n",
              "count  1.259000e+03\n",
              "mean   7.942815e+07\n",
              "std    2.818299e+09\n",
              "min   -1.726000e+03\n",
              "25%    2.700000e+01\n",
              "50%    3.100000e+01\n",
              "75%    3.600000e+01\n",
              "max    1.000000e+11"
            ],
            "text/html": [
              "\n",
              "  <div id=\"df-9c979727-c0cd-441a-ba56-2d77df2bf8d5\" class=\"colab-df-container\">\n",
              "    <div>\n",
              "<style scoped>\n",
              "    .dataframe tbody tr th:only-of-type {\n",
              "        vertical-align: middle;\n",
              "    }\n",
              "\n",
              "    .dataframe tbody tr th {\n",
              "        vertical-align: top;\n",
              "    }\n",
              "\n",
              "    .dataframe thead th {\n",
              "        text-align: right;\n",
              "    }\n",
              "</style>\n",
              "<table border=\"1\" class=\"dataframe\">\n",
              "  <thead>\n",
              "    <tr style=\"text-align: right;\">\n",
              "      <th></th>\n",
              "      <th>Age</th>\n",
              "    </tr>\n",
              "  </thead>\n",
              "  <tbody>\n",
              "    <tr>\n",
              "      <th>count</th>\n",
              "      <td>1.259000e+03</td>\n",
              "    </tr>\n",
              "    <tr>\n",
              "      <th>mean</th>\n",
              "      <td>7.942815e+07</td>\n",
              "    </tr>\n",
              "    <tr>\n",
              "      <th>std</th>\n",
              "      <td>2.818299e+09</td>\n",
              "    </tr>\n",
              "    <tr>\n",
              "      <th>min</th>\n",
              "      <td>-1.726000e+03</td>\n",
              "    </tr>\n",
              "    <tr>\n",
              "      <th>25%</th>\n",
              "      <td>2.700000e+01</td>\n",
              "    </tr>\n",
              "    <tr>\n",
              "      <th>50%</th>\n",
              "      <td>3.100000e+01</td>\n",
              "    </tr>\n",
              "    <tr>\n",
              "      <th>75%</th>\n",
              "      <td>3.600000e+01</td>\n",
              "    </tr>\n",
              "    <tr>\n",
              "      <th>max</th>\n",
              "      <td>1.000000e+11</td>\n",
              "    </tr>\n",
              "  </tbody>\n",
              "</table>\n",
              "</div>\n",
              "    <div class=\"colab-df-buttons\">\n",
              "\n",
              "  <div class=\"colab-df-container\">\n",
              "    <button class=\"colab-df-convert\" onclick=\"convertToInteractive('df-9c979727-c0cd-441a-ba56-2d77df2bf8d5')\"\n",
              "            title=\"Convert this dataframe to an interactive table.\"\n",
              "            style=\"display:none;\">\n",
              "\n",
              "  <svg xmlns=\"http://www.w3.org/2000/svg\" height=\"24px\" viewBox=\"0 -960 960 960\">\n",
              "    <path d=\"M120-120v-720h720v720H120Zm60-500h600v-160H180v160Zm220 220h160v-160H400v160Zm0 220h160v-160H400v160ZM180-400h160v-160H180v160Zm440 0h160v-160H620v160ZM180-180h160v-160H180v160Zm440 0h160v-160H620v160Z\"/>\n",
              "  </svg>\n",
              "    </button>\n",
              "\n",
              "  <style>\n",
              "    .colab-df-container {\n",
              "      display:flex;\n",
              "      gap: 12px;\n",
              "    }\n",
              "\n",
              "    .colab-df-convert {\n",
              "      background-color: #E8F0FE;\n",
              "      border: none;\n",
              "      border-radius: 50%;\n",
              "      cursor: pointer;\n",
              "      display: none;\n",
              "      fill: #1967D2;\n",
              "      height: 32px;\n",
              "      padding: 0 0 0 0;\n",
              "      width: 32px;\n",
              "    }\n",
              "\n",
              "    .colab-df-convert:hover {\n",
              "      background-color: #E2EBFA;\n",
              "      box-shadow: 0px 1px 2px rgba(60, 64, 67, 0.3), 0px 1px 3px 1px rgba(60, 64, 67, 0.15);\n",
              "      fill: #174EA6;\n",
              "    }\n",
              "\n",
              "    .colab-df-buttons div {\n",
              "      margin-bottom: 4px;\n",
              "    }\n",
              "\n",
              "    [theme=dark] .colab-df-convert {\n",
              "      background-color: #3B4455;\n",
              "      fill: #D2E3FC;\n",
              "    }\n",
              "\n",
              "    [theme=dark] .colab-df-convert:hover {\n",
              "      background-color: #434B5C;\n",
              "      box-shadow: 0px 1px 3px 1px rgba(0, 0, 0, 0.15);\n",
              "      filter: drop-shadow(0px 1px 2px rgba(0, 0, 0, 0.3));\n",
              "      fill: #FFFFFF;\n",
              "    }\n",
              "  </style>\n",
              "\n",
              "    <script>\n",
              "      const buttonEl =\n",
              "        document.querySelector('#df-9c979727-c0cd-441a-ba56-2d77df2bf8d5 button.colab-df-convert');\n",
              "      buttonEl.style.display =\n",
              "        google.colab.kernel.accessAllowed ? 'block' : 'none';\n",
              "\n",
              "      async function convertToInteractive(key) {\n",
              "        const element = document.querySelector('#df-9c979727-c0cd-441a-ba56-2d77df2bf8d5');\n",
              "        const dataTable =\n",
              "          await google.colab.kernel.invokeFunction('convertToInteractive',\n",
              "                                                    [key], {});\n",
              "        if (!dataTable) return;\n",
              "\n",
              "        const docLinkHtml = 'Like what you see? Visit the ' +\n",
              "          '<a target=\"_blank\" href=https://colab.research.google.com/notebooks/data_table.ipynb>data table notebook</a>'\n",
              "          + ' to learn more about interactive tables.';\n",
              "        element.innerHTML = '';\n",
              "        dataTable['output_type'] = 'display_data';\n",
              "        await google.colab.output.renderOutput(dataTable, element);\n",
              "        const docLink = document.createElement('div');\n",
              "        docLink.innerHTML = docLinkHtml;\n",
              "        element.appendChild(docLink);\n",
              "      }\n",
              "    </script>\n",
              "  </div>\n",
              "\n",
              "\n",
              "<div id=\"df-290165de-d698-4b91-adbd-37c35d43f74e\">\n",
              "  <button class=\"colab-df-quickchart\" onclick=\"quickchart('df-290165de-d698-4b91-adbd-37c35d43f74e')\"\n",
              "            title=\"Suggest charts.\"\n",
              "            style=\"display:none;\">\n",
              "\n",
              "<svg xmlns=\"http://www.w3.org/2000/svg\" height=\"24px\"viewBox=\"0 0 24 24\"\n",
              "     width=\"24px\">\n",
              "    <g>\n",
              "        <path d=\"M19 3H5c-1.1 0-2 .9-2 2v14c0 1.1.9 2 2 2h14c1.1 0 2-.9 2-2V5c0-1.1-.9-2-2-2zM9 17H7v-7h2v7zm4 0h-2V7h2v10zm4 0h-2v-4h2v4z\"/>\n",
              "    </g>\n",
              "</svg>\n",
              "  </button>\n",
              "\n",
              "<style>\n",
              "  .colab-df-quickchart {\n",
              "      --bg-color: #E8F0FE;\n",
              "      --fill-color: #1967D2;\n",
              "      --hover-bg-color: #E2EBFA;\n",
              "      --hover-fill-color: #174EA6;\n",
              "      --disabled-fill-color: #AAA;\n",
              "      --disabled-bg-color: #DDD;\n",
              "  }\n",
              "\n",
              "  [theme=dark] .colab-df-quickchart {\n",
              "      --bg-color: #3B4455;\n",
              "      --fill-color: #D2E3FC;\n",
              "      --hover-bg-color: #434B5C;\n",
              "      --hover-fill-color: #FFFFFF;\n",
              "      --disabled-bg-color: #3B4455;\n",
              "      --disabled-fill-color: #666;\n",
              "  }\n",
              "\n",
              "  .colab-df-quickchart {\n",
              "    background-color: var(--bg-color);\n",
              "    border: none;\n",
              "    border-radius: 50%;\n",
              "    cursor: pointer;\n",
              "    display: none;\n",
              "    fill: var(--fill-color);\n",
              "    height: 32px;\n",
              "    padding: 0;\n",
              "    width: 32px;\n",
              "  }\n",
              "\n",
              "  .colab-df-quickchart:hover {\n",
              "    background-color: var(--hover-bg-color);\n",
              "    box-shadow: 0 1px 2px rgba(60, 64, 67, 0.3), 0 1px 3px 1px rgba(60, 64, 67, 0.15);\n",
              "    fill: var(--button-hover-fill-color);\n",
              "  }\n",
              "\n",
              "  .colab-df-quickchart-complete:disabled,\n",
              "  .colab-df-quickchart-complete:disabled:hover {\n",
              "    background-color: var(--disabled-bg-color);\n",
              "    fill: var(--disabled-fill-color);\n",
              "    box-shadow: none;\n",
              "  }\n",
              "\n",
              "  .colab-df-spinner {\n",
              "    border: 2px solid var(--fill-color);\n",
              "    border-color: transparent;\n",
              "    border-bottom-color: var(--fill-color);\n",
              "    animation:\n",
              "      spin 1s steps(1) infinite;\n",
              "  }\n",
              "\n",
              "  @keyframes spin {\n",
              "    0% {\n",
              "      border-color: transparent;\n",
              "      border-bottom-color: var(--fill-color);\n",
              "      border-left-color: var(--fill-color);\n",
              "    }\n",
              "    20% {\n",
              "      border-color: transparent;\n",
              "      border-left-color: var(--fill-color);\n",
              "      border-top-color: var(--fill-color);\n",
              "    }\n",
              "    30% {\n",
              "      border-color: transparent;\n",
              "      border-left-color: var(--fill-color);\n",
              "      border-top-color: var(--fill-color);\n",
              "      border-right-color: var(--fill-color);\n",
              "    }\n",
              "    40% {\n",
              "      border-color: transparent;\n",
              "      border-right-color: var(--fill-color);\n",
              "      border-top-color: var(--fill-color);\n",
              "    }\n",
              "    60% {\n",
              "      border-color: transparent;\n",
              "      border-right-color: var(--fill-color);\n",
              "    }\n",
              "    80% {\n",
              "      border-color: transparent;\n",
              "      border-right-color: var(--fill-color);\n",
              "      border-bottom-color: var(--fill-color);\n",
              "    }\n",
              "    90% {\n",
              "      border-color: transparent;\n",
              "      border-bottom-color: var(--fill-color);\n",
              "    }\n",
              "  }\n",
              "</style>\n",
              "\n",
              "  <script>\n",
              "    async function quickchart(key) {\n",
              "      const quickchartButtonEl =\n",
              "        document.querySelector('#' + key + ' button');\n",
              "      quickchartButtonEl.disabled = true;  // To prevent multiple clicks.\n",
              "      quickchartButtonEl.classList.add('colab-df-spinner');\n",
              "      try {\n",
              "        const charts = await google.colab.kernel.invokeFunction(\n",
              "            'suggestCharts', [key], {});\n",
              "      } catch (error) {\n",
              "        console.error('Error during call to suggestCharts:', error);\n",
              "      }\n",
              "      quickchartButtonEl.classList.remove('colab-df-spinner');\n",
              "      quickchartButtonEl.classList.add('colab-df-quickchart-complete');\n",
              "    }\n",
              "    (() => {\n",
              "      let quickchartButtonEl =\n",
              "        document.querySelector('#df-290165de-d698-4b91-adbd-37c35d43f74e button');\n",
              "      quickchartButtonEl.style.display =\n",
              "        google.colab.kernel.accessAllowed ? 'block' : 'none';\n",
              "    })();\n",
              "  </script>\n",
              "</div>\n",
              "    </div>\n",
              "  </div>\n"
            ]
          },
          "metadata": {},
          "execution_count": 18
        }
      ]
    },
    {
      "cell_type": "code",
      "source": [
        "#********************************************************************Cleansing the data******************************************************************************************\n",
        "\n",
        "import pandas as pd\n",
        "data = id.drop_duplicates()\n",
        "data.to_csv(\"cleaned_dataset.csv\", index=False)\n",
        "print(data.describe())"
      ],
      "metadata": {
        "colab": {
          "base_uri": "https://localhost:8080/"
        },
        "id": "j4F6nf9jNzoP",
        "outputId": "0878d66e-fbb9-4fdf-97f3-b812488df307"
      },
      "execution_count": null,
      "outputs": [
        {
          "output_type": "stream",
          "name": "stdout",
          "text": [
            "                Age\n",
            "count  1.259000e+03\n",
            "mean   7.942815e+07\n",
            "std    2.818299e+09\n",
            "min   -1.726000e+03\n",
            "25%    2.700000e+01\n",
            "50%    3.100000e+01\n",
            "75%    3.600000e+01\n",
            "max    1.000000e+11\n"
          ]
        }
      ]
    },
    {
      "cell_type": "code",
      "source": [
        "dt=id.head(30)\n"
      ],
      "metadata": {
        "id": "55doiE-FRRlN"
      },
      "execution_count": null,
      "outputs": []
    },
    {
      "cell_type": "code",
      "source": [
        "#PLOTTING:\n",
        "\n",
        "import seaborn as sns\n",
        "import matplotlib.pyplot as plt\n",
        "sns.countplot(x=\"Age\",data=dt)\n",
        "\n",
        "plt.figure(figsize=(10,6))\n",
        "plt.show()"
      ],
      "metadata": {
        "colab": {
          "base_uri": "https://localhost:8080/",
          "height": 466
        },
        "id": "ULz_GaK3PpAk",
        "outputId": "c5932ce3-64e5-4532-d13a-030644cd5dbe"
      },
      "execution_count": null,
      "outputs": [
        {
          "output_type": "display_data",
          "data": {
            "text/plain": [
              "<Figure size 640x480 with 1 Axes>"
            ],
            "image/png": "[encoded data removed]"
          },
          "metadata": {}
        },
        {
          "output_type": "display_data",
          "data": {
            "text/plain": [
              "<Figure size 1000x600 with 0 Axes>"
            ]
          },
          "metadata": {}
        }
      ]
    },
    {
      "cell_type": "code",
      "source": [
        "#******************************************************************************ACCURACY*******************************************************************************************\n",
        "\n",
        "\n",
        "\n",
        "#logistic regression\n",
        "from sklearn.datasets import make_classification\n",
        "from sklearn.model_selection import train_test_split\n",
        "from sklearn.metrics import accuracy_score\n",
        "from sklearn.linear_model import LogisticRegression\n",
        "nb_samples = 1000\n",
        "x, y = make_classification(n_samples=nb_samples, n_features=2, n_informative=2, n_redundant=0, n_clusters_per_class=1)\n",
        "xtrain, xtest, ytrain, ytest = train_test_split(x, y, test_size=0.2, random_state=42)\n",
        "model = LogisticRegression()\n",
        "model.fit(xtrain, ytrain)\n",
        "\n",
        "\n",
        "\n",
        "\n",
        "\n",
        "#Accuracy of the data\n",
        "print(accuracy_score(ytest, model.predict(xtest)))\n",
        "\n",
        "\n",
        "\n",
        "\n",
        "\n"
      ],
      "metadata": {
        "colab": {
          "base_uri": "https://localhost:8080/"
        },
        "id": "9qc6phjnSoxc",
        "outputId": "6e8a333a-f6ba-4e05-b1c9-ceb528a7f03d"
      },
      "execution_count": null,
      "outputs": [
        {
          "output_type": "stream",
          "name": "stdout",
          "text": [
            "0.96\n"
          ]
        }
      ]
    },
    {
      "cell_type": "code",
      "source": [
        "#******************************************************************************PHASE 4************************************************************************************************************\n",
        "\n",
        "\n",
        "# Frequency of treatement :\n",
        "\n",
        "response_counts = id['treatment'].value_counts()\n",
        "print(response_counts)"
      ],
      "metadata": {
        "colab": {
          "base_uri": "https://localhost:8080/"
        },
        "id": "juGXyetvKkHV",
        "outputId": "ca5ceaf7-ac69-425a-9260-6aa300705ea7"
      },
      "execution_count": null,
      "outputs": [
        {
          "output_type": "stream",
          "name": "stdout",
          "text": [
            "Yes    637\n",
            "No     622\n",
            "Name: treatment, dtype: int64\n"
          ]
        }
      ]
    },
    {
      "cell_type": "code",
      "source": [
        "#Proposition :\n",
        "\n",
        "response_proportions = id['treatment'].value_counts(normalize=True)\n",
        "print(response_proportions)"
      ],
      "metadata": {
        "colab": {
          "base_uri": "https://localhost:8080/"
        },
        "id": "yWq3YJ6ALnnc",
        "outputId": "9305b493-08f8-4ba7-8aa8-e81f30a18f9d"
      },
      "execution_count": null,
      "outputs": [
        {
          "output_type": "stream",
          "name": "stdout",
          "text": [
            "Yes    0.505957\n",
            "No     0.494043\n",
            "Name: treatment, dtype: float64\n"
          ]
        }
      ]
    },
    {
      "cell_type": "code",
      "source": [
        "#BAR GRAPH :\n",
        "\n",
        "import matplotlib.pyplot as plt\n",
        "\n",
        "plt.bar(response_counts.index,response_counts.values,color='skyblue',edgecolor='k')\n",
        "plt.xlabel('Treatment')\n",
        "plt.ylabel('Count')\n",
        "plt.title('Distribution of Satisfaction Responses')\n",
        "plt.show()"
      ],
      "metadata": {
        "colab": {
          "base_uri": "https://localhost:8080/",
          "height": 472
        },
        "id": "nB6mY-9wL7Zb",
        "outputId": "8c6215b2-3eee-4f8b-8731-901b6cfb8b21"
      },
      "execution_count": null,
      "outputs": [
        {
          "output_type": "display_data",
          "data": {
            "text/plain": [
              "<Figure size 640x480 with 1 Axes>"
            ],
            "image/png": "[encoded data removed]"
          },
          "metadata": {}
        }
      ]
    },
    {
      "cell_type": "code",
      "source": [
        "#SUMMARY STATISTICS FOR TREATMENT :\n",
        "\n",
        "# summary statistics for \"Yes\" responses\n",
        "\n",
        "yes_stats = id[id['treatment'] == 'Yes'].describe()\n",
        "print(yes_stats)"
      ],
      "metadata": {
        "colab": {
          "base_uri": "https://localhost:8080/"
        },
        "id": "ezWO03bZMYJa",
        "outputId": "51a5c39d-4f02-4142-f394-4a1b1e34ba55"
      },
      "execution_count": null,
      "outputs": [
        {
          "output_type": "stream",
          "name": "stdout",
          "text": [
            "                Age\n",
            "count  6.370000e+02\n",
            "mean   1.569859e+08\n",
            "std    3.962144e+09\n",
            "min   -1.726000e+03\n",
            "25%    2.700000e+01\n",
            "50%    3.200000e+01\n",
            "75%    3.700000e+01\n",
            "max    1.000000e+11\n"
          ]
        }
      ]
    },
    {
      "cell_type": "code",
      "source": [
        "#summary statistics for \"No\" responses\n",
        "\n",
        "no_stats = id[id['treatment'] == 'No'].describe()\n",
        "print(no_stats)"
      ],
      "metadata": {
        "colab": {
          "base_uri": "https://localhost:8080/"
        },
        "id": "5G1PskuENZSR",
        "outputId": "1d586c49-610f-4e2c-949b-9ebfd28a2034"
      },
      "execution_count": null,
      "outputs": [
        {
          "output_type": "stream",
          "name": "stdout",
          "text": [
            "              Age\n",
            "count  622.000000\n",
            "mean    31.361736\n",
            "std      7.481982\n",
            "min    -29.000000\n",
            "25%     27.000000\n",
            "50%     31.000000\n",
            "75%     35.000000\n",
            "max     65.000000\n"
          ]
        }
      ]
    },
    {
      "cell_type": "code",
      "source": [
        "#SUMMARY REPORTS FOR TREATMENT MADE :\n",
        "\n",
        "# Calculate key statistics\n",
        "total_responses = len(id)\n",
        "yes_responses = (id['treatment'] == 'Yes').sum()\n",
        "no_responses = total_responses - yes_responses\n",
        "yes_percentage = (yes_responses / total_responses) * 100\n",
        "no_percentage = 100 - yes_percentage\n",
        "\n",
        "\n",
        "\n",
        "# Generate a summary report\n",
        "summary_report = f\"\"\"\n",
        "--------------------------\n",
        "Summary Report\n",
        "--------------------------\n",
        "\n",
        "Total Responses: {total_responses}\n",
        "Yes Responses: {yes_responses} ({yes_percentage:.2f}%)\n",
        "No Responses: {no_responses} ({no_percentage:.2f}%)\n",
        "\n",
        "Distribution of Satisfaction Responses:\n",
        "See the bar chart below.\n",
        "\n",
        "--------------------------\n",
        "\n",
        "\"\"\"\n",
        "\n",
        "print(summary_report)"
      ],
      "metadata": {
        "colab": {
          "base_uri": "https://localhost:8080/"
        },
        "id": "qIPJ8qMcOLGN",
        "outputId": "9e67f7ed-56ac-4a76-d198-00e9e1e75100"
      },
      "execution_count": null,
      "outputs": [
        {
          "output_type": "stream",
          "name": "stdout",
          "text": [
            "\n",
            "--------------------------\n",
            "Summary Report\n",
            "--------------------------\n",
            "\n",
            "Total Responses: 1259\n",
            "Yes Responses: 637 (50.60%)\n",
            "No Responses: 622 (49.40%) \n",
            "\n",
            "Distribution of Satisfaction Responses:\n",
            "See the bar chart below.\n",
            "\n",
            "--------------------------\n",
            "\n",
            "\n"
          ]
        }
      ]
    },
    {
      "cell_type": "code",
      "source": [
        "#CORELATION :\n",
        "\n",
        "import pandas as pd\n",
        "import matplotlib.pyplot as plt\n",
        "import seaborn as sns\n",
        "\n",
        "\n",
        "# Correlation heatmap\n",
        "correlation_matrix = id .corr()\n",
        "plt.figure(figsize=(8, 6))\n",
        "sns.heatmap(correlation_matrix, annot=True, cmap='coolwarm', fmt=\".2f\")\n",
        "plt.title('Correlation Heatmap')\n",
        "plt.show()\n"
      ],
      "metadata": {
        "colab": {
          "base_uri": "https://localhost:8080/",
          "height": 600
        },
        "id": "U036xQGpQRKD",
        "outputId": "b2945a0b-a2c2-45e6-e3b3-8290c24b7983"
      },
      "execution_count": null,
      "outputs": [
        {
          "output_type": "stream",
          "name": "stderr",
          "text": [
            "<ipython-input-26-2f0763557ae2>:11: FutureWarning: The default value of numeric_only in DataFrame.corr is deprecated. In a future version, it will default to False. Select only valid columns or specify the value of numeric_only to silence this warning.\n",
            "  correlation_matrix = id .corr()\n"
          ]
        },
        {
          "output_type": "display_data",
          "data": {
            "text/plain": [
              "<Figure size 800x600 with 2 Axes>"
            ],
            "image/png": "[encoded data removed]"
          },
          "metadata": {}
        }
      ]
    },
    {
      "cell_type": "code",
      "source": [
        "#HISTOGRAM FOR AGE DISTRIBUTION :\n",
        "\n",
        "data=id.Age\n",
        "\n",
        "plt.hist(data, bins=5, edgecolor='k',color='pink')\n",
        "plt.xlabel('Values')\n",
        "plt.ylabel('Frequency')\n",
        "plt.title('Histogram for Age  Distribution')\n",
        "plt.show()"
      ],
      "metadata": {
        "colab": {
          "base_uri": "https://localhost:8080/",
          "height": 472
        },
        "id": "LzT6z2kYS8Yg",
        "outputId": "22755c01-281c-4421-8fd1-decf5daa7b06"
      },
      "execution_count": null,
      "outputs": [
        {
          "output_type": "display_data",
          "data": {
            "text/plain": [
              "<Figure size 640x480 with 1 Axes>"
            ],
            "image/png": "[encoded data removed]"
          },
          "metadata": {}
        }
      ]
    }
  ]
}